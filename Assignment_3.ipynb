{
 "cells": [
  {
   "cell_type": "markdown",
   "id": "d8ac9f03",
   "metadata": {},
   "source": [
    "##Question no.1\n",
    "\n",
    "An abstract superclass is a class that is designed to be inherited from but not instantiated directly. It serves as a blueprint for its subclasses, providing common attributes and methods that the subclasses can inherit and override. An abstract superclass may contain one or more abstract methods, which are methods without an implementation in the superclass. Subclasses are responsible for implementing these abstract methods. In Python, abstract superclasses are typically created using the abc module and the ABC (Abstract Base Class) metaclass."
   ]
  },
  {
   "cell_type": "markdown",
   "id": "3e70253e",
   "metadata": {},
   "source": [
    "##Question no.2\n",
    "\n",
    "When a class statement's top level contains a basic assignment statement, it creates a class-level attribute. This attribute is shared by all instances of the class, and its value can be accessed and modified by all instances. The assignment statement is executed once when the class is defined, and the resulting value becomes the value of the class-level attribute."
   ]
  },
  {
   "cell_type": "markdown",
   "id": "90124f62",
   "metadata": {},
   "source": [
    "##Question no.3\n",
    "\n",
    "A class needs to manually call a superclass's __init__ method to ensure that the initialization code of the superclass is executed. When a subclass overrides the __init__ method, the superclass's __init__ method is not automatically called. By explicitly calling the superclass's __init__ method within the subclass's __init__ method using super().__init__(), the subclass can inherit the initialization behavior of the superclass and add its own custom initialization code."
   ]
  },
  {
   "cell_type": "markdown",
   "id": "e4cb46a7",
   "metadata": {},
   "source": [
    "##Question no.4\n",
    "\n",
    "To augment an inherited method instead of completely replacing it, you can override the method in the subclass and call the superclass's method within the overridden method using super(). This allows you to add additional behavior to the method while still leveraging the existing functionality from the superclass."
   ]
  },
  {
   "cell_type": "markdown",
   "id": "f9a89239",
   "metadata": {},
   "source": [
    "##Question no.5\n",
    "\n",
    "The local scope of a class and a function in Python is different.\n",
    "In a class, the local scope refers to the scope within a method or any other block defined inside the class. Variables defined within a method or block are considered local to that method or block and cannot be accessed outside of it.\n",
    "\n",
    "In a function, the local scope refers to the scope within the function's body. Variables defined within a function are considered local to that function and cannot be accessed outside of it.\n",
    "\n",
    "However, there is a difference between how variables defined in a class and in a function are accessed. Variables defined in a class can be accessed by instances of the class using the self keyword, while variables defined in a function can only be accessed within the function's scope. Additionally, variables defined in a class are typically instance attributes, while variables defined in a function are local variables."
   ]
  },
  {
   "cell_type": "code",
   "execution_count": null,
   "id": "0e77f211",
   "metadata": {},
   "outputs": [],
   "source": []
  }
 ],
 "metadata": {
  "kernelspec": {
   "display_name": "Python 3 (ipykernel)",
   "language": "python",
   "name": "python3"
  },
  "language_info": {
   "codemirror_mode": {
    "name": "ipython",
    "version": 3
   },
   "file_extension": ".py",
   "mimetype": "text/x-python",
   "name": "python",
   "nbconvert_exporter": "python",
   "pygments_lexer": "ipython3",
   "version": "3.9.13"
  }
 },
 "nbformat": 4,
 "nbformat_minor": 5
}
