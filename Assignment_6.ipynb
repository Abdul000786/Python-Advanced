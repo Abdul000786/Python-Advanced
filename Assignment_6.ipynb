{
 "cells": [
  {
   "cell_type": "markdown",
   "id": "56dec752",
   "metadata": {},
   "source": [
    "##Question no.1\n",
    "\n",
    " Three applications for exception processing are:\n",
    "\n",
    "1. Error Handling: Exceptions allow you to handle errors and exceptional situations in your code. By catching and handling exceptions, you can gracefully recover from errors, provide appropriate error messages or fallback behavior, and prevent your program from crashing.\n",
    "\n",
    "2. Input Validation: Exceptions can be used to validate user input or data. If the input does not meet certain criteria or requirements, you can raise an exception to indicate the invalid input and handle it accordingly.\n",
    "\n",
    "3. Resource Cleanup: Exceptions can be used to ensure proper cleanup of resources, such as closing files, releasing locks, or disconnecting from a database. By catching exceptions and including cleanup code in the appropriate exception handlers or using finally blocks, you can ensure that resources are properly released, even in the presence of exceptions."
   ]
  },
  {
   "cell_type": "markdown",
   "id": "fccd09eb",
   "metadata": {},
   "source": [
    "##Question no.2\n",
    "\n",
    " If we don't handle or catch an exception, it will propagate up the call stack until it reaches the top-level scope of your program. If the exception is not caught at any level, it will result in an unhandled exception error, which typically terminates the program and displays an error message. The error message provides information about the type of exception, the traceback, and the line of code where the exception occurred."
   ]
  },
  {
   "cell_type": "markdown",
   "id": "b1c8345e",
   "metadata": {},
   "source": [
    "##Question no.3\n",
    "\n",
    "When recovering from an exception , we have several options:\n",
    "\n",
    "1. Catch and Handle: You can use a try-except block to catch and handle specific exceptions. Inside the except block, you can provide alternative code to execute, display error messages, or take any necessary recovery actions.\n",
    "\n",
    "2. Reraise: You can catch an exception, perform some additional actions, and then re-raise the exception using the raise statement. This allows the exception to propagate up the call stack, potentially allowing other parts of the program to handle it.\n",
    "\n",
    "3. Finally Block: You can use a finally block to specify code that should always be executed, regardless of whether an exception occurs or is caught. This is useful for cleanup operations or ensuring certain actions are performed, even in the presence of exceptions."
   ]
  },
  {
   "cell_type": "markdown",
   "id": "0f23b448",
   "metadata": {},
   "source": [
    "##Question no.4\n",
    "\n",
    "Two methods for triggering exceptions  are:\n",
    "\n",
    "1. Using the raise statement: You can explicitly raise an exception using the raise statement followed by the type of exception you want to raise. You can also provide an optional error message or additional data associated with the exception.\n",
    "\n",
    "2. Using built-in functions or methods: Certain built-in functions or methods in Python can raise exceptions under specific conditions. For example, calling int(\"hello\") raises a ValueError because the string \"hello\" cannot be converted to an integer."
   ]
  },
  {
   "cell_type": "markdown",
   "id": "9f8b6bbc",
   "metadata": {},
   "source": [
    "##Question no.5\n",
    "\n",
    " Two methods for specifying actions to be executed at termination time, regardless of whether or not an exception exists are:\n",
    "\n",
    "1. Using a finally block: The finally block is used in conjunction with a try-except block to specify code that should be executed regardless of whether an exception occurred or was caught. The code within the finally block will always execute, even if an exception is raised or the program exits abnormally.\n",
    "\n",
    "2. Using the atexit module: The atexit module provides a way to register functions to be executed at program termination. These functions will be called when the program exits normally, either by reaching the end of the script or by calling sys.exit(). This allows you to specify cleanup or finalization tasks to be performed."
   ]
  },
  {
   "cell_type": "code",
   "execution_count": null,
   "id": "a395c0e8",
   "metadata": {},
   "outputs": [],
   "source": []
  }
 ],
 "metadata": {
  "kernelspec": {
   "display_name": "Python 3 (ipykernel)",
   "language": "python",
   "name": "python3"
  },
  "language_info": {
   "codemirror_mode": {
    "name": "ipython",
    "version": 3
   },
   "file_extension": ".py",
   "mimetype": "text/x-python",
   "name": "python",
   "nbconvert_exporter": "python",
   "pygments_lexer": "ipython3",
   "version": "3.9.13"
  }
 },
 "nbformat": 4,
 "nbformat_minor": 5
}
