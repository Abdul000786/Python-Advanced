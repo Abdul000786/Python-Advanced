{
 "cells": [
  {
   "cell_type": "markdown",
   "id": "b1d321c3",
   "metadata": {},
   "source": [
    "##Question no.1\n",
    "\n",
    "Assigning a value to a string's indexed character does violate Python's string immutability. Strings in Python are immutable, meaning their individual characters cannot be modified directly. Any attempt to assign a value to a specific character in a string will result in a TypeError stating that 'str' object does not support item assignment.\n",
    "\n"
   ]
  },
  {
   "cell_type": "markdown",
   "id": "4f7e5fbc",
   "metadata": {},
   "source": [
    "##Question no.2\n",
    "\n",
    "Using the += operator to concatenate strings does not violate Python's string immutability. Although strings are immutable, the += operator for strings performs concatenation by creating a new string object that combines the original string with the appended string. The original string remains unchanged, and the += operator assigns the new concatenated string to the same variable."
   ]
  },
  {
   "cell_type": "markdown",
   "id": "3bf82a86",
   "metadata": {},
   "source": [
    "##Question no.3\n",
    "\n",
    " In Python, there is only one way to index a character in a string, and that is by using square brackets [] with the index position of the character. The index position starts at 0 for the first character, -1 for the last character, and can be accessed using positive or negative integers.\n"
   ]
  },
  {
   "cell_type": "markdown",
   "id": "20136812",
   "metadata": {},
   "source": [
    "##Question no.4\n",
    "\n",
    ". The relationship between indexing and slicing is that slicing is a more generalized operation that extracts a substring from a string based on a range of indices. While indexing retrieves a single character at a specific index position, slicing allows you to extract a contiguous portion of the string by specifying the start and end indices."
   ]
  },
  {
   "cell_type": "code",
   "execution_count": 11,
   "id": "e854bdc5",
   "metadata": {},
   "outputs": [
    {
     "name": "stdout",
     "output_type": "stream",
     "text": [
      "<class 'str'>\n",
      "<class 'str'>\n"
     ]
    }
   ],
   "source": [
    "##Question no.5\n",
    "\n",
    "# An indexed character in Python is represented as a single-character string. It has the data type of str\n",
    "\n",
    "s = \"Hello\"\n",
    "char = s[0]\n",
    "print(type(char))  \n",
    "\n",
    "#A slicing-generated substring is also represented as a string, which has the data type of str.\n",
    "\n",
    "s = \"Hello, Python!\"\n",
    "substring = s[7:12]\n",
    "print(type(substring))  \n"
   ]
  },
  {
   "cell_type": "markdown",
   "id": "170a65d5",
   "metadata": {},
   "source": [
    "##Question no.6\n",
    "\n",
    " In Python, there is no distinct \"character\" type. Characters in Python are represented as single-character strings (str). This means that a character is essentially a string of length 1. In Python, the terms \"string\" and \"character\" are often used interchangeably."
   ]
  },
  {
   "cell_type": "markdown",
   "id": "88b50701",
   "metadata": {},
   "source": [
    "##Question no.7\n",
    "\n",
    "Two operators that allow you to combine smaller strings to create a larger string are the + operator for concatenation and the * operator for repetition. Additionally, the join() method can be used to concatenate a sequence of strings into a single string, using a specified separator."
   ]
  },
  {
   "cell_type": "markdown",
   "id": "427f22ca",
   "metadata": {},
   "source": [
    "##Question no.8\n",
    "\n",
    " Checking the target string with the in or not in operators before using the index() method to find a substring is beneficial because it avoids raising a ValueError if the substring is not found. The in or not in operators return a Boolean value (True or False) indicating whether the substring exists in the target string. By performing this check first, you can handle the absence of the substring gracefully without causing an error."
   ]
  },
  {
   "cell_type": "markdown",
   "id": "0186bd49",
   "metadata": {},
   "source": [
    "##Question no.9\n",
    "\n",
    " Operators and built-in string methods that produce simple Boolean (true/false) results include:\n",
    "\n",
    "Operators:\n",
    "\n",
    "1. == (equality operator): Compares two strings and returns True if they are equal.\n",
    "2. != (inequality operator): Compares two strings and returns True if they are not equal.\n",
    "3.in and not in operators: Check whether a substring exists in a target string.\n",
    "\n",
    "Built-in string methods:\n",
    "\n",
    "1. startswith(prefix): Returns True if the string starts with the specified prefix.\n",
    "2. endswith(suffix): Returns True if the string ends with the specified suffix."
   ]
  },
  {
   "cell_type": "code",
   "execution_count": null,
   "id": "15ad8100",
   "metadata": {},
   "outputs": [],
   "source": []
  }
 ],
 "metadata": {
  "kernelspec": {
   "display_name": "Python 3 (ipykernel)",
   "language": "python",
   "name": "python3"
  },
  "language_info": {
   "codemirror_mode": {
    "name": "ipython",
    "version": 3
   },
   "file_extension": ".py",
   "mimetype": "text/x-python",
   "name": "python",
   "nbconvert_exporter": "python",
   "pygments_lexer": "ipython3",
   "version": "3.9.13"
  }
 },
 "nbformat": 4,
 "nbformat_minor": 5
}
