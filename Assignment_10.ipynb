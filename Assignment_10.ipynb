{
 "cells": [
  {
   "cell_type": "markdown",
   "id": "93956208",
   "metadata": {},
   "source": [
    "##Question no.1\n",
    "\n",
    " The difference between __getattr__ and __getattribute__ lies in when they are called and how they handle attribute access.\n",
    "\n",
    "1. __getattr__ is called when an attribute is accessed and not found through the usual lookup process. It is only invoked when the attribute is not present in the instance's dictionary or in its class hierarchy. This method is typically used for handling undefined or dynamic attributes.\n",
    "\n",
    "2. __getattribute__ is called every time an attribute is accessed, regardless of whether it exists or not. It is invoked before checking the instance's dictionary or its class hierarchy. This method allows you to override the default attribute access behavior and perform custom actions, such as logging or attribute manipulation, for every attribute access."
   ]
  },
  {
   "cell_type": "markdown",
   "id": "087ff25a",
   "metadata": {},
   "source": [
    "##Question no.2\n",
    "\n",
    " Properties and descriptors are both mechanisms in Python for controlling attribute access and enabling attribute management with custom behavior. However, there are some differences between the two:\n",
    "\n",
    "1. Properties: Properties are a high-level, built-in mechanism in Python that allow you to define methods that are accessed like attributes. They provide a way to define computed attributes and control the access, assignment, and deletion of attribute values. Properties are defined at the class level using the @property decorator and can be accessed and modified using regular attribute syntax.\n",
    "\n",
    "2. Descriptors: Descriptors are a lower-level mechanism in Python that provide a way to define how attributes are accessed, assigned, and deleted at the class level. They allow you to define the behavior of attribute access through the implementation of specific descriptor methods: __get__, __set__, and __delete__. Descriptors are typically used when you need fine-grained control over attribute access and want to reuse the behavior across multiple attributes or classes."
   ]
  },
  {
   "cell_type": "markdown",
   "id": "34f80344",
   "metadata": {},
   "source": [
    "##Question no.3\n",
    "\n",
    "The key differences in functionality between __getattr__, __getattribute__, properties, and descriptors are as follows:\n",
    "\n",
    "__getattr__ and __getattribute__:\n",
    "\n",
    "1. __getattr__ is only called when an attribute is not found through regular attribute lookup, whereas __getattribute__ is called for every attribute access, regardless of whether the attribute exists or not.\n",
    "2. __getattr__ is a fallback method for undefined attributes, while __getattribute__ allows you to override the default attribute access behavior and perform custom actions for every attribute access.\n",
    "3. __getattr__ can be defined at the instance level, while __getattribute__ is defined at the class level.\n",
    "\n",
    "Properties and descriptors:\n",
    "\n",
    "1. Properties provide a high-level, declarative way to define computed attributes, while descriptors offer a more low-level and customizable mechanism for attribute access and management.\n",
    "2. Properties are defined using the @property decorator or as methods with specific names, while descriptors are defined by implementing the descriptor protocol (__get__, __set__, and __delete__ methods).\n",
    "3. Properties can be defined at the class level, while descriptors can be defined as separate descriptor objects that can be reused across multiple attributes or classes."
   ]
  },
  {
   "cell_type": "code",
   "execution_count": null,
   "id": "2e6ff61a",
   "metadata": {},
   "outputs": [],
   "source": []
  }
 ],
 "metadata": {
  "kernelspec": {
   "display_name": "Python 3 (ipykernel)",
   "language": "python",
   "name": "python3"
  },
  "language_info": {
   "codemirror_mode": {
    "name": "ipython",
    "version": 3
   },
   "file_extension": ".py",
   "mimetype": "text/x-python",
   "name": "python",
   "nbconvert_exporter": "python",
   "pygments_lexer": "ipython3",
   "version": "3.9.13"
  }
 },
 "nbformat": 4,
 "nbformat_minor": 5
}
