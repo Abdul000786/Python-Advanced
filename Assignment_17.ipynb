{
 "cells": [
  {
   "cell_type": "markdown",
   "id": "dee28463",
   "metadata": {},
   "source": [
    "##Question no.1\n",
    "\n",
    "Greedy syntax tries to match as much as possible, while non-greedy syntax tries to match as little as possible. To transform a greedy pattern into a non-greedy one, you can introduce a question mark ? after a quantifier. This makes the quantifier non-greedy."
   ]
  },
  {
   "cell_type": "markdown",
   "id": "0bedcb90",
   "metadata": {},
   "source": [
    "##Question no.2\n",
    "\n",
    " Greedy versus non-greedy makes a difference when there are multiple possible matches in a string. Greedy matching will try to match as much as possible, potentially consuming parts that you want to match separately. If you need a non-greedy match but only a greedy match is available, you may need to adjust the pattern or use other techniques to achieve the desired result."
   ]
  },
  {
   "cell_type": "markdown",
   "id": "d5bd8f6c",
   "metadata": {},
   "source": [
    "##Question no.3\n",
    "\n",
    "In a simple match of a string without any replacement, the use of a non-tagged group (a group without capturing parentheses) is unlikely to make a practical difference. Non-tagged groups are primarily used for grouping and logical grouping of patterns and do not capture the matched text."
   ]
  },
  {
   "cell_type": "markdown",
   "id": "daae602f",
   "metadata": {},
   "source": [
    "##Question no.4\n",
    "\n",
    "A scenario where using a non-tagged category (e.g., (?:...)) would have a significant impact is when you need to group patterns together for logical grouping or alternations but don't want to capture the matched text. This can be useful in complex regular expressions where capturing unnecessary text may cause performance issues or unwanted side effects."
   ]
  },
  {
   "cell_type": "markdown",
   "id": "9e940717",
   "metadata": {},
   "source": [
    "##Question no.5\n",
    "\n",
    "In a situation where you want to check if a specific pattern exists ahead in the string without consuming the characters, a look-ahead condition can make a difference. For example, if you want to match a word that is followed by a specific character but you don't want to include that character in the match, a positive look-ahead can be used to assert the presence of the character without consuming it."
   ]
  },
  {
   "cell_type": "markdown",
   "id": "a3097859",
   "metadata": {},
   "source": [
    "##Question no.6\n",
    "\n",
    "Positive look-ahead ((?=...)) in regular expressions asserts that the pattern inside the look-ahead must be present at that position in the string, without consuming the characters. Negative look-ahead ((?!...)) asserts the opposite, ensuring that the pattern inside the negative look-ahead is not present at that position."
   ]
  },
  {
   "cell_type": "markdown",
   "id": "ec16e299",
   "metadata": {},
   "source": [
    "##Question no.7\n",
    "\n",
    "Referring to groups by name rather than by number in a standard expression improves code readability and maintainability. It makes the code more self-explanatory and reduces the chances of errors when accessing groups, especially in complex regular expressions with multiple capturing groups."
   ]
  },
  {
   "cell_type": "markdown",
   "id": "682aabea",
   "metadata": {},
   "source": [
    "##Question no.9\n",
    "\n",
    "When parsing a string, the Scanner interface provides more advanced functionality compared to the re.findall feature. The Scanner interface allows you to define patterns with different actions for each pattern, such as matching, skipping, or discarding certain parts of the input. It provides more control over the parsing process and can handle complex parsing scenarios more efficiently."
   ]
  },
  {
   "cell_type": "markdown",
   "id": "781cd6b5",
   "metadata": {},
   "source": [
    "##Question no.10\n",
    "\n",
    "No, a Scanner object does not have to be named \"scanner.\" You can name it according to your preference and the context of your code. The name \"scanner\" is commonly used to represent a Scanner object, but you can choose any valid variable name that follows the naming conventions of the programming language.\n",
    "\n",
    "\n",
    "\n",
    "\n"
   ]
  },
  {
   "cell_type": "code",
   "execution_count": null,
   "id": "ca183ada",
   "metadata": {},
   "outputs": [],
   "source": []
  }
 ],
 "metadata": {
  "kernelspec": {
   "display_name": "Python 3 (ipykernel)",
   "language": "python",
   "name": "python3"
  },
  "language_info": {
   "codemirror_mode": {
    "name": "ipython",
    "version": 3
   },
   "file_extension": ".py",
   "mimetype": "text/x-python",
   "name": "python",
   "nbconvert_exporter": "python",
   "pygments_lexer": "ipython3",
   "version": "3.9.13"
  }
 },
 "nbformat": 4,
 "nbformat_minor": 5
}
