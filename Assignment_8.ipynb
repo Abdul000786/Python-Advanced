{
 "cells": [
  {
   "cell_type": "markdown",
   "id": "0131709f",
   "metadata": {},
   "source": [
    "##Question no.1\n",
    "\n",
    " In Python 3.x, the two latest user-defined exception constraints are:\n",
    "\n",
    "1. User-defined exceptions should inherit from the built-in Exception class or one of its subclasses. This ensures that user-defined exceptions are compatible with the exception handling mechanism in Python and can be caught and handled appropriately.\n",
    "\n",
    "2. User-defined exceptions should have a meaningful name that reflects the nature of the exception. The name of the exception class should provide information about the exceptional condition being raised. This helps in understanding and debugging the code when exceptions occur."
   ]
  },
  {
   "cell_type": "markdown",
   "id": "e03ac629",
   "metadata": {},
   "source": [
    "##Question no.2\n",
    "\n",
    " Class-based exceptions that have been raised are matched to handlers based on the exception hierarchy. When an exception is raised, Python starts searching for an appropriate exception handler by looking at the except clauses in the order they appear. It checks if the raised exception is an instance of the exception types specified in the except clauses, or if it is a subclass of those types. The first matching except clause is executed, and subsequent except clauses are skipped.\n",
    "\n",
    "If there is no matching except clause for the raised exception, the exception propagates up the call stack, searching for a matching handler in the caller's scope. This process continues until an appropriate handler is found or until the exception reaches the top-level scope of the program, resulting in an unhandled exception error."
   ]
  },
  {
   "cell_type": "markdown",
   "id": "50a2e489",
   "metadata": {},
   "source": [
    "##Question no.3\n",
    "\n",
    "Two methods for attaching context information to exception artifacts are:\n",
    "\n",
    "Including relevant data in the exception instance: We can include additional information as attributes in the custom exception class itself. By adding attributes to the exception instance, you can provide context-specific details that help in understanding and handling the exception.\n",
    "\n",
    "Using the with_traceback() method: When catching an exception, you can use the with_traceback() method to attach a traceback to the exception object. This traceback provides detailed information about the execution path leading to the exception. It allows you to include the full traceback information when re-raising or propagating the exception."
   ]
  },
  {
   "cell_type": "markdown",
   "id": "1026a56d",
   "metadata": {},
   "source": [
    "##Question no.4\n",
    "\n",
    "Two methods for specifying the text of an exception object's error message are:\n",
    "\n",
    "Passing an error message as an argument when raising the exception: When raising a built-in or user-defined exception, you can include an error message as an argument to the exception constructor. This allows you to provide a custom error message that describes the exceptional condition.\n",
    "\n",
    "Defining a __str__ method in a custom exception class: By defining the __str__ method in a custom exception class, you can override the default behavior of the exception's string representation. The __str__ method should return a string that represents the error message or details of the exception. When the exception is printed or converted to a string, this method is called to provide the text representation of the exception."
   ]
  },
  {
   "cell_type": "markdown",
   "id": "ddce613e",
   "metadata": {},
   "source": [
    "##Question no.5\n",
    "\n",
    "String-based exceptions are no longer used because they have several limitations and drawbacks. Some reasons why string-based exceptions are not preferred in Python include:\n",
    "\n",
    "1. Lack of hierarchy and specificity: String-based exceptions do not provide a structured way to organize and categorize exceptions. They do not have a hierarchy or inheritance relationship, making it difficult to catch and handle specific types of exceptions.\n",
    "\n",
    "2. Limited extensibility and functionality: String-based exceptions do not allow for adding custom attributes or methods to exception instances. They lack the functionality provided by built-in exception classes and cannot take advantage of exception handling features like context managers, exception chaining, or traceback information.\n",
    "\n",
    "3. Ambiguity and potential errors: String-based exceptions rely on comparing string values, which can be error-prone. Typos, case sensitivity, and inconsistencies in exception names can lead to difficulty in catching and handling exceptions correctly. Additionally, string-based exceptions do not provide clear error messages or traceback information, making it harder to debug and understand the cause of exceptions."
   ]
  },
  {
   "cell_type": "code",
   "execution_count": null,
   "id": "879ef58b",
   "metadata": {},
   "outputs": [],
   "source": []
  }
 ],
 "metadata": {
  "kernelspec": {
   "display_name": "Python 3 (ipykernel)",
   "language": "python",
   "name": "python3"
  },
  "language_info": {
   "codemirror_mode": {
    "name": "ipython",
    "version": 3
   },
   "file_extension": ".py",
   "mimetype": "text/x-python",
   "name": "python",
   "nbconvert_exporter": "python",
   "pygments_lexer": "ipython3",
   "version": "3.9.13"
  }
 },
 "nbformat": 4,
 "nbformat_minor": 5
}
