{
 "cells": [
  {
   "cell_type": "markdown",
   "id": "a67abdfb",
   "metadata": {},
   "source": [
    "##Question no.1 \n",
    "\n",
    "The purpose of Python's Object-Oriented Programming (OOP) is to provide a way to structure and organize code by creating reusable and modular components called objects. OOP allows you to define classes, which are blueprints for creating objects, and leverage concepts such as encapsulation, inheritance, and polymorphism to write more efficient and maintainable code."
   ]
  },
  {
   "cell_type": "markdown",
   "id": "915e9b01",
   "metadata": {},
   "source": [
    "##Question no.2\n",
    "\n",
    " Inheritance search looks for an attribute in the following order:\n",
    "\n",
    "1. The instance object itself.\n",
    "2. The class that the instance belongs to.\n",
    "3. The superclasses of the class, following the Method Resolution Order (MRO)."
   ]
  },
  {
   "cell_type": "markdown",
   "id": "fd7dc5af",
   "metadata": {},
   "source": [
    "##Question no.3 \n",
    "\n",
    "A class object represents the class itself, while an instance object represents a specific instance (or object) created from that class. In other words, a class object is like a blueprint, and an instance object is an actual object created based on that blueprint."
   ]
  },
  {
   "cell_type": "markdown",
   "id": "f8d155b2",
   "metadata": {},
   "source": [
    "##Question no.4\n",
    "\n",
    " The first argument in a class's method function is conventionally named self. It refers to the instance object that the method is being called on. By using self, you can access the instance's attributes and other methods within the class."
   ]
  },
  {
   "cell_type": "markdown",
   "id": "10523482",
   "metadata": {},
   "source": [
    "##Question no.5\n",
    "\n",
    " The __init__ method is a special method in Python classes. It is called the constructor and is automatically invoked when a new instance of a class is created. The purpose of the __init__ method is to initialize the attributes of the instance object. It allows you to define and set the initial state of the object."
   ]
  },
  {
   "cell_type": "markdown",
   "id": "7bfc19e9",
   "metadata": {},
   "source": [
    "##Question no.6\n",
    "\n",
    " To create a class instance, we need to follow these steps:\n",
    "\n",
    "1. Define a class that represents the object you want to create.\n",
    "2. Instantiate the class by calling it as if it were a function, which creates a new instance of the class.\n",
    "3. Optionally, assign the instance to a variable to keep a reference to it."
   ]
  },
  {
   "cell_type": "markdown",
   "id": "8fd27a16",
   "metadata": {},
   "source": [
    "##Question no.7\n",
    "\n",
    " To create a class, we need to define a class using the class keyword followed by the class name. Inside the class, you can define attributes and methods."
   ]
  },
  {
   "cell_type": "markdown",
   "id": "e2689261",
   "metadata": {},
   "source": [
    "##Question no.8\n",
    "\n",
    " The superclasses of a class are defined by using inheritance. In Python, we can define a class that inherits from one or more superclasses by including them in parentheses after the class name."
   ]
  },
  {
   "cell_type": "code",
   "execution_count": null,
   "id": "7fb96b01",
   "metadata": {},
   "outputs": [],
   "source": []
  }
 ],
 "metadata": {
  "kernelspec": {
   "display_name": "Python 3 (ipykernel)",
   "language": "python",
   "name": "python3"
  },
  "language_info": {
   "codemirror_mode": {
    "name": "ipython",
    "version": 3
   },
   "file_extension": ".py",
   "mimetype": "text/x-python",
   "name": "python",
   "nbconvert_exporter": "python",
   "pygments_lexer": "ipython3",
   "version": "3.9.13"
  }
 },
 "nbformat": 4,
 "nbformat_minor": 5
}
