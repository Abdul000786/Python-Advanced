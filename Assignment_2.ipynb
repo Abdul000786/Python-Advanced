{
 "cells": [
  {
   "cell_type": "markdown",
   "id": "9704ba7d",
   "metadata": {},
   "source": [
    "##Question no.1\n",
    "\n",
    "The relationship between classes and modules in Python is that classes can be defined within modules. A module is a file containing Python definitions, statements, and functions, while a class is a blueprint for creating objects with specific properties and behaviors. You can import modules into other modules or scripts and access the classes defined within them."
   ]
  },
  {
   "cell_type": "markdown",
   "id": "5b9e9e93",
   "metadata": {},
   "source": [
    "##Question no.2\n",
    "\n",
    "To make instances of a class, we need to follow these steps:\n",
    "\n",
    "1. Define a class.\n",
    "2. Instantiate the class by calling it as if it were a function, which creates a new instance of the class.\n",
    "3. Optionally, assign the instance to a variable to keep a reference to it.\n",
    "4. To make classes, you need to define a class using the class keyword followed by the class name. Inside the class, you can define attributes and methods."
   ]
  },
  {
   "cell_type": "markdown",
   "id": "51db410d",
   "metadata": {},
   "source": [
    "##Question no.3\n",
    "\n",
    " Class attributes are created within the class definition, but outside of any methods. They are typically defined directly beneath the class declaration and above any method definitions. Class attributes are shared among all instances of the class."
   ]
  },
  {
   "cell_type": "markdown",
   "id": "a850921e",
   "metadata": {},
   "source": [
    "##Question no.4\n",
    "\n",
    " Instance attributes are created and assigned within the __init__ method of a class. Each instance of the class will have its own copy of instance attributes. These attributes can be accessed and modified using the instance object."
   ]
  },
  {
   "cell_type": "markdown",
   "id": "cef5dab7",
   "metadata": {},
   "source": [
    "##Question no.5\n",
    "\n",
    " In a Python class, the term \"self\" is a convention used to refer to the instance object itself. It is the first parameter of instance methods within a class. By using the \"self\" parameter, you can access the instance's attributes and methods within the class. The name \"self\" is not a keyword, and you can technically use any valid variable name in its place, although using \"self\" is strongly recommended for readability and convention.\n"
   ]
  },
  {
   "cell_type": "markdown",
   "id": "c4d65c0d",
   "metadata": {},
   "source": [
    "##Question no.6\n",
    "\n",
    "Python allows operator overloading in classes by defining special methods that correspond to specific operators. These methods are invoked when the corresponding operator is used with instances of the class. For example, the __add__ method is called when the \"+\" operator is used to add two objects of a class together"
   ]
  },
  {
   "cell_type": "markdown",
   "id": "8fea1cab",
   "metadata": {},
   "source": [
    "##Question no.7\n",
    "\n",
    " Operator overloading should be considered when you want to define custom behavior for built-in operators in your classes. It can make your code more expressive and intuitive, especially when working with user-defined types. Use operator overloading when it makes sense conceptually and simplifies the usage of your class."
   ]
  },
  {
   "cell_type": "markdown",
   "id": "2a007610",
   "metadata": {},
   "source": [
    "##Question no.8\n",
    "\n",
    "The most popular form of operator overloading is the __add__ method, which overloads the addition operator \"+\". This method allows instances of a class to be added together using the \"+\" operator."
   ]
  },
  {
   "cell_type": "markdown",
   "id": "f640a836",
   "metadata": {},
   "source": [
    "##Question no.9\n",
    "\n",
    " The two most important concepts to comprehend Python OOP code are:\n",
    "\n",
    "1. Classes and Objects: Understanding how to define classes, create instances of those classes, and work with their attributes and methods is fundamental in Python OOP.\n",
    "2. Inheritance and Polymorphism: Knowing how to utilize inheritance to create subclasses that inherit properties and behaviors from superclasses, and how polymorphism allows objects of different classes to be treated interchangeably, is crucial in object-oriented programming."
   ]
  },
  {
   "cell_type": "code",
   "execution_count": null,
   "id": "869f09b6",
   "metadata": {},
   "outputs": [],
   "source": []
  }
 ],
 "metadata": {
  "kernelspec": {
   "display_name": "Python 3 (ipykernel)",
   "language": "python",
   "name": "python3"
  },
  "language_info": {
   "codemirror_mode": {
    "name": "ipython",
    "version": 3
   },
   "file_extension": ".py",
   "mimetype": "text/x-python",
   "name": "python",
   "nbconvert_exporter": "python",
   "pygments_lexer": "ipython3",
   "version": "3.9.13"
  }
 },
 "nbformat": 4,
 "nbformat_minor": 5
}
