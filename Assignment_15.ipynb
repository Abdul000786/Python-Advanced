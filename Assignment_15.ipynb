{
 "cells": [
  {
   "cell_type": "markdown",
   "id": "3fb48840",
   "metadata": {},
   "source": [
    "##Question no.1\n",
    "\n",
    "Python 3.8 introduced several new features and improvements. Some of the key additions in Python 3.8 include:\n",
    "\n",
    "1. Assignment Expressions (the \"Walrus Operator\"): This feature introduces the := operator, allowing assignment expressions within larger expressions. It allows you to assign a value to a variable and use it within the same expression.\n",
    "\n",
    "2. Positional-Only Parameters: Python 3.8 introduced support for defining function parameters that can only be passed positionally, not by keyword.\n",
    "\n",
    "3. f-strings support = for self-documenting expressions: This enhancement allows you to use = inside f-strings to help self-document the expressions being formatted.\n",
    "\n",
    "4. The math.prod() function: This function was added to the math module, allowing you to calculate the product of all items in an iterable.\n",
    "\n",
    "5. The functools.cache() decorator: This decorator provides a simple way to cache function results based on the input arguments, improving performance for computationally expensive functions.\n",
    "\n",
    "6. The typing.final decorator: This decorator can be used to indicate that a class or function is not intended to be subclassed or overridden."
   ]
  },
  {
   "cell_type": "markdown",
   "id": "dc15b6b5",
   "metadata": {},
   "source": [
    "##Question no.2\n",
    "\n",
    "1. Monkey patching in Python refers to the practice of modifying or extending existing code at runtime by adding, modifying, or replacing attributes or methods of classes or objects. It allows you to change the behavior or add functionality to existing code without directly modifying the original source code.\n",
    "2. Monkey patching can be useful in situations where you need to add new functionality to an existing module or library without having to modify its source code. However, it should be used with caution as it can make code harder to understand and maintain"
   ]
  },
  {
   "cell_type": "markdown",
   "id": "b291d55f",
   "metadata": {},
   "source": [
    "##Question no.3\n",
    "\n",
    "The difference between a shallow copy and a deep copy is as follows:\n",
    "\n",
    "1. Shallow Copy: A shallow copy creates a new object that references the same memory locations as the original object. In other words, it creates a new object with a new reference, but the internal objects are still referenced by both the original and copied objects. If any mutable objects are present in the original object, changes made to those objects will be reflected in both the original and copied objects.\n",
    "\n",
    "2. Deep Copy: A deep copy creates a new object and recursively copies all objects within the original object, including any nested objects. It creates a completely independent copy of the original object and its internal objects. Any changes made to the copied object or its internal objects will not affect the original object."
   ]
  },
  {
   "cell_type": "markdown",
   "id": "5ac3d2f5",
   "metadata": {},
   "source": [
    "##Question no.4\n",
    "\n",
    "1. In Python, the maximum possible length of an identifier (variable name, function name, etc.) is not explicitly defined. However, Python imposes some practical limitations on the length of identifiers. The identifier must be a valid name, which means it must start with a letter or underscore, followed by letters, digits, or underscores. It cannot be a reserved keyword or a built-in name.\n",
    "2. While there is no hard limit on the length of identifiers in Python, it is generally recommended to keep identifiers reasonably short and meaningful for readability and maintainability of the code."
   ]
  },
  {
   "cell_type": "markdown",
   "id": "ebdaedb4",
   "metadata": {},
   "source": [
    "##Question no.5\n",
    "\n",
    "1. Generator comprehension, also known as generator expression, is a concise way to create a generator object in Python. It is similar to list comprehension, but instead of creating a list, it creates a generator that can be iterated over to produce values on-the-fly, saving memory and improving performance.\n",
    "2. Generator comprehension uses a similar syntax to list comprehension, but with parentheses () instead of square brackets []. It allows you to define and generate values based on a given expression and optional conditions. The values are generated one at a time, as needed, using lazy evaluation."
   ]
  },
  {
   "cell_type": "code",
   "execution_count": null,
   "id": "c70b5486",
   "metadata": {},
   "outputs": [],
   "source": []
  }
 ],
 "metadata": {
  "kernelspec": {
   "display_name": "Python 3 (ipykernel)",
   "language": "python",
   "name": "python3"
  },
  "language_info": {
   "codemirror_mode": {
    "name": "ipython",
    "version": 3
   },
   "file_extension": ".py",
   "mimetype": "text/x-python",
   "name": "python",
   "nbconvert_exporter": "python",
   "pygments_lexer": "ipython3",
   "version": "3.9.13"
  }
 },
 "nbformat": 4,
 "nbformat_minor": 5
}
