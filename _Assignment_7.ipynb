{
 "cells": [
  {
   "cell_type": "markdown",
   "id": "73531556",
   "metadata": {},
   "source": [
    "##Question no.1\n",
    "\n",
    "The purpose of the try statement in Python is to define a block of code where exceptions might occur. It allows you to catch and handle exceptions, ensuring that your program can gracefully recover from exceptional situations. The try statement is typically followed by one or more except blocks to handle specific exceptions that may occur within the try block."
   ]
  },
  {
   "cell_type": "markdown",
   "id": "b824fbbd",
   "metadata": {},
   "source": [
    "##Question no.2\n",
    "\n",
    " The two most popular variations of the try statement are:\n",
    "\n",
    "1. try-except: This variation is used to catch and handle specific exceptions. It allows us to specify different exception handlers for different types of exceptions. we can have multiple except blocks following the try block to handle specific exceptions. If an exception occurs in the try block, the corresponding except block is executed.\n",
    "\n",
    "2. try-finally: This variation is used to ensure that certain code is executed, regardless of whether an exception occurs or not. The finally block is always executed, even if an exception is raised or the program exits abnormally. It is commonly used for cleanup operations or finalization tasks."
   ]
  },
  {
   "cell_type": "markdown",
   "id": "1e40fffe",
   "metadata": {},
   "source": [
    "##Question no.3\n",
    "\n",
    " The purpose of the raise statement in Python is to explicitly raise an exception. we can use the raise statement to trigger an exception at any point in your code. It allows us to indicate that an exceptional condition has occurred and propagate the exception to the nearest exception handler that can handle it.\n"
   ]
  },
  {
   "cell_type": "markdown",
   "id": "8b9b569d",
   "metadata": {},
   "source": [
    "##Question no.4\n",
    "\n",
    "1.  The assert statement in Python is used to assert or validate a condition. It takes a condition as an argument and raises an AssertionError if the condition evaluates to False. It is primarily used for debugging and testing purposes to ensure that certain conditions hold true at specific points in the code.\n",
    "\n",
    "2. The assert statement is similar to an if statement but with the added benefit of automatically raising an exception if the condition is False."
   ]
  },
  {
   "cell_type": "markdown",
   "id": "8e62d525",
   "metadata": {},
   "source": [
    "##Question no.5\n",
    "\n",
    "1. The purpose of the with/as statement in Python is to simplify the management of resources that need to be acquired and released, such as files or network connections. It provides a convenient way to ensure that cleanup operations are performed automatically, even in the presence of exceptions.\n",
    "\n",
    "2. The with/as statement is used in conjunction with objects that implement the context manager protocol. The context manager's __enter__ method is called at the beginning of the with block, and the __exit__ method is called at the end, regardless of whether an exception occurred or not. It ensures that the resources are properly released or cleaned up.\n",
    "\n",
    "3. The with/as statement is similar to using a try-finally block for resource cleanup but provides a more concise and readable syntax."
   ]
  },
  {
   "cell_type": "code",
   "execution_count": null,
   "id": "0fa2e7e5",
   "metadata": {},
   "outputs": [],
   "source": []
  }
 ],
 "metadata": {
  "kernelspec": {
   "display_name": "Python 3 (ipykernel)",
   "language": "python",
   "name": "python3"
  },
  "language_info": {
   "codemirror_mode": {
    "name": "ipython",
    "version": 3
   },
   "file_extension": ".py",
   "mimetype": "text/x-python",
   "name": "python",
   "nbconvert_exporter": "python",
   "pygments_lexer": "ipython3",
   "version": "3.9.13"
  }
 },
 "nbformat": 4,
 "nbformat_minor": 5
}
