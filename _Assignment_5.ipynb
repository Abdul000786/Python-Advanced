{
 "cells": [
  {
   "cell_type": "markdown",
   "id": "7c81f62b",
   "metadata": {},
   "source": [
    "##Question no.1\n",
    "\n",
    " Multiple inheritance is a feature of object-oriented programming where a class can inherit attributes and methods from multiple parent classes. In Python, a class can inherit from multiple superclasses by including them in parentheses after the class name in the class definition. This allows the subclass to inherit and combine the behaviors and attributes from multiple sources."
   ]
  },
  {
   "cell_type": "markdown",
   "id": "73b45ddd",
   "metadata": {},
   "source": [
    "##Question no.2\n",
    "\n",
    "The concept of delegation in Python refers to the ability of an object to delegate certain tasks or operations to another object. Instead of implementing the behavior directly, an object delegates the responsibility to another object that specializes in that behavior. This promotes code reuse, modularity, and flexibility in designing object-oriented systems.\n",
    "\n",
    "Delegation is typically achieved by having an object hold a reference to another object and forwarding method calls or attribute access to that object."
   ]
  },
  {
   "cell_type": "markdown",
   "id": "f3f84026",
   "metadata": {},
   "source": [
    "##Question no.3\n",
    "\n",
    "Composition is a concept in object-oriented programming where a class is composed of one or more other classes as its parts. The composed classes are typically instantiated within the composing class and have a strong relationship with it. The composed classes are responsible for specific behaviors or functionalities, and the composition allows for building complex objects by combining simpler objects.\n",
    "\n",
    "Composition is often preferred over inheritance when creating complex class relationships, as it provides better flexibility, modularity, and code reuse."
   ]
  },
  {
   "cell_type": "markdown",
   "id": "488d570d",
   "metadata": {},
   "source": [
    "##Question no.4\n",
    "\n",
    " Bound methods in Python are methods that are associated with an instance of a class. They are created when a method is accessed through an instance object, and they implicitly pass the instance itself as the first argument (conventionally named self). Bound methods can be called like regular functions and have access to the instance's attributes and other methods."
   ]
  },
  {
   "cell_type": "markdown",
   "id": "101a9bdf",
   "metadata": {},
   "source": [
    "##Question no.5\n",
    "\n",
    " The purpose of pseudoprivate attributes in Python is to provide a way to define attributes that are intended to be private within a class, discouraging direct access or modification from outside the class. Pseudoprivate attributes are defined with a double underscore prefix (__). Python performs name mangling on these attributes, prefixing the attribute name with _ClassName to make it more difficult to accidentally access or override the attribute.\n",
    "\n",
    "Although pseudoprivate attributes are not truly private in Python, they serve as a naming convention to indicate that the attribute should be treated as private and should not be accessed or modified directly from outside the class."
   ]
  },
  {
   "cell_type": "code",
   "execution_count": null,
   "id": "d21c0445",
   "metadata": {},
   "outputs": [],
   "source": []
  }
 ],
 "metadata": {
  "kernelspec": {
   "display_name": "Python 3 (ipykernel)",
   "language": "python",
   "name": "python3"
  },
  "language_info": {
   "codemirror_mode": {
    "name": "ipython",
    "version": 3
   },
   "file_extension": ".py",
   "mimetype": "text/x-python",
   "name": "python",
   "nbconvert_exporter": "python",
   "pygments_lexer": "ipython3",
   "version": "3.9.13"
  }
 },
 "nbformat": 4,
 "nbformat_minor": 5
}
